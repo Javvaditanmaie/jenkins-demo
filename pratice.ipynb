{
 "cells": [
  {
   "cell_type": "code",
   "execution_count": 1,
   "id": "cb54530a",
   "metadata": {},
   "outputs": [
    {
     "name": "stdout",
     "output_type": "stream",
     "text": [
      "10\n"
     ]
    }
   ],
   "source": [
    "def count_no(*numbers):\n",
    "    total=0\n",
    "    for num in numbers:\n",
    "        total+=num\n",
    "    return total\n",
    "print(count_no(1,2,3,4))\n",
    "    "
   ]
  },
  {
   "cell_type": "code",
   "execution_count": 3,
   "id": "7280259e",
   "metadata": {},
   "outputs": [
    {
     "name": "stdout",
     "output_type": "stream",
     "text": [
      "name:Lisa\n",
      "job:Engineer\n",
      "city:Boston\n"
     ]
    }
   ],
   "source": [
    "def print_info(**info):\n",
    "    for key,value in info.items():\n",
    "        print (f\"{key}:{value}\")\n",
    "print_info(name=\"Lisa\", job=\"Engineer\", city=\"Boston\")"
   ]
  },
  {
   "cell_type": "code",
   "execution_count": 3,
   "id": "8e02bcc5",
   "metadata": {},
   "outputs": [
    {
     "name": "stdout",
     "output_type": "stream",
     "text": [
      "{'product': 'Laptop', 'quality': 2, 'price': 18.0, 'shipping': 'Express', 'note': 'Gift wrap'}\n"
     ]
    }
   ],
   "source": [
    "def create_order(product, quality,*args, discount=0, **kwargs):\n",
    "    price=quality*10\n",
    "    final_price=price*(1-discount)\n",
    "    order_info={\n",
    "        \"product\":product,\n",
    "        \"quality\":quality,\n",
    "        \"price\":final_price\n",
    "\n",
    "    }\n",
    "    for key,value in kwargs.items():\n",
    "        order_info[key]=value\n",
    "    return order_info\n",
    "order = create_order(\"Laptop\", 2, discount=0.1, shipping=\"Express\", note=\"Gift wrap\")\n",
    "print(order)"
   ]
  },
  {
   "cell_type": "code",
   "execution_count": null,
   "id": "ceaff1ad",
   "metadata": {},
   "outputs": [
    {
     "name": "stdout",
     "output_type": "stream",
     "text": [
      "15\n"
     ]
    }
   ],
   "source": [
    "operation={\n",
    "    \"add\":lambda x,y:x+y,\n",
    "    \"subtract\":lambda x,y:x-y\n",
    "}\n",
    "\n",
    "res=operation[\"add\"](10,5)\n",
    "print(res)"
   ]
  },
  {
   "cell_type": "code",
   "execution_count": 3,
   "id": "706b6304",
   "metadata": {},
   "outputs": [
    {
     "name": "stdout",
     "output_type": "stream",
     "text": [
      "<map object at 0x000001918730B6A0>\n",
      "[1, 4, 9, 16]\n",
      "<class 'filter'>\n",
      "[2, 4]\n"
     ]
    }
   ],
   "source": [
    "numbers=[1,2,3,4]\n",
    "squr=map(lambda x:x**2,numbers)\n",
    "print(squr)\n",
    "print(list(squr))\n",
    "even=filter(lambda x:x%2==0,numbers)\n",
    "print(filter)\n",
    "print(list(even))"
   ]
  },
  {
   "cell_type": "code",
   "execution_count": 7,
   "id": "c14819ca",
   "metadata": {},
   "outputs": [
    {
     "name": "stdout",
     "output_type": "stream",
     "text": [
      "120\n"
     ]
    }
   ],
   "source": [
    "def factorical(n):\n",
    "    if n<=1:\n",
    "        return 1\n",
    "    else:\n",
    "        return n*factorical(n-1)\n",
    "print(factorical(5))"
   ]
  },
  {
   "cell_type": "code",
   "execution_count": 10,
   "id": "73b3e7c7",
   "metadata": {},
   "outputs": [
    {
     "name": "stdout",
     "output_type": "stream",
     "text": [
      "0 1 1 2 3 5 8 13 21 34 "
     ]
    }
   ],
   "source": [
    "def fibonacci(n):\n",
    "    if n<=0:\n",
    "        return 0\n",
    "    elif n==1:\n",
    "        return 1\n",
    "    else:\n",
    "        return fibonacci(n-1)+fibonacci(n-2)\n",
    "for i in range(10):\n",
    "    print(fibonacci(i),end=\" \")\n"
   ]
  },
  {
   "cell_type": "code",
   "execution_count": 1,
   "id": "9046b5e5",
   "metadata": {},
   "outputs": [
    {
     "name": "stdout",
     "output_type": "stream",
     "text": [
      "\n"
     ]
    }
   ],
   "source": [
    "file=open('simple.txt','r')\n",
    "content=file.read()\n",
    "print(content)\n",
    "file.close()"
   ]
  },
  {
   "cell_type": "code",
   "execution_count": 1,
   "id": "81d61503",
   "metadata": {},
   "outputs": [
    {
     "name": "stdout",
     "output_type": "stream",
     "text": [
      "[5, 7, 9]\n"
     ]
    }
   ],
   "source": [
    "def add(x,y):\n",
    "    return x+y\n",
    "a=[1,2,3]\n",
    "b=[4,5,6]\n",
    "res=[]\n",
    "for x,y in zip(a,b):\n",
    "    res.append(add(x,y))\n",
    "print(res)"
   ]
  },
  {
   "cell_type": "code",
   "execution_count": 2,
   "id": "5606f24f",
   "metadata": {},
   "outputs": [
    {
     "name": "stdout",
     "output_type": "stream",
     "text": [
      "[5, 8, 10]\n"
     ]
    }
   ],
   "source": [
    "a=[1,2,3]\n",
    "b=[4,6,7]\n",
    "squ=map(lambda x,y:x+y,a,b)\n",
    "print(list(squ))"
   ]
  },
  {
   "cell_type": "code",
   "execution_count": 3,
   "id": "79a2c139",
   "metadata": {},
   "outputs": [
    {
     "name": "stdout",
     "output_type": "stream",
     "text": [
      "4\n",
      "512\n"
     ]
    }
   ],
   "source": [
    "#closure\n",
    "def pow(n):\n",
    "    def power(x):\n",
    "        return x**n\n",
    "    return power\n",
    "squ=pow(2)\n",
    "cube=pow(3)\n",
    "print(squ(2))\n",
    "print(cube(8))"
   ]
  },
  {
   "cell_type": "code",
   "execution_count": 4,
   "id": "dc807912",
   "metadata": {},
   "outputs": [
    {
     "name": "stdout",
     "output_type": "stream",
     "text": [
      "80.0\n"
     ]
    }
   ],
   "source": [
    "def calculate_discount(price: float, percentage: float):\n",
    "    \"\"\"\n",
    "    Calculate the discounted price.\n",
    "\n",
    "    Args:\n",
    "        price: The original price\n",
    "        percentage: The discount percentage (0-100)\n",
    "\n",
    "    Returns:\n",
    "        The price after discount\n",
    "    \"\"\"\n",
    "    return price * (1 - percentage/100)\n",
    "\n",
    "discounted = calculate_discount(100.0, 20.0)\n",
    "print(discounted)  "
   ]
  },
  {
   "cell_type": "code",
   "execution_count": 5,
   "id": "09bd7c34",
   "metadata": {},
   "outputs": [
    {
     "name": "stdout",
     "output_type": "stream",
     "text": [
      "error\n"
     ]
    }
   ],
   "source": [
    "rgb_color=(255,0,128)\n",
    "try:\n",
    "    rgb_color[0]=200\n",
    "except TypeError as e:\n",
    "    print(\"error\")"
   ]
  },
  {
   "cell_type": "code",
   "execution_count": 6,
   "id": "68eb2ea6",
   "metadata": {},
   "outputs": [
    {
     "name": "stdout",
     "output_type": "stream",
     "text": [
      "Alice in Engineering earns $70000 with a $5000 bonus\n",
      "Bob in Marketing earns $65000 with a $4000 bonus\n",
      "Charlie in Engineering earns $75000 with a $5500 bonus\n"
     ]
    }
   ],
   "source": [
    "employees = (\n",
    "    (\"Alice\", \"Engineering\", (70000, 5000)),  # Name, Dept, (Salary, Bonus)\n",
    "    (\"Bob\", \"Marketing\", (65000, 4000)),\n",
    "    (\"Charlie\", \"Engineering\", (75000, 5500))\n",
    ")\n",
    "\n",
    "for name, department, (salary, bonus) in employees:\n",
    "    print(f\"{name} in {department} earns ${salary} with a ${bonus} bonus\")"
   ]
  },
  {
   "cell_type": "code",
   "execution_count": 7,
   "id": "16dbf169",
   "metadata": {},
   "outputs": [
    {
     "name": "stdout",
     "output_type": "stream",
     "text": [
      "Student scores: {'Alice': 92, 'Bob': 85, 'Charlie': 78, 'Diana': 95, 'Evan': 88}\n"
     ]
    }
   ],
   "source": [
    "student_scores = {\n",
    "    \"Alice\": 92,\n",
    "    \"Bob\": 85,\n",
    "    \"Charlie\": 78,\n",
    "    \"Diana\": 95,\n",
    "    \"Evan\": 88\n",
    "}\n",
    "\n",
    "print(\"Student scores:\", student_scores)"
   ]
  },
  {
   "cell_type": "code",
   "execution_count": 9,
   "id": "0012b8ae",
   "metadata": {},
   "outputs": [
    {
     "name": "stdout",
     "output_type": "stream",
     "text": [
      "85\n",
      "{'Alice': 92, 'Bob': 85, 'Charlie': 78, 'Diana': 95, 'Evan': 88, 'grace': 87}\n"
     ]
    }
   ],
   "source": [
    "student_scores[\"grace\"]=87\n",
    "print(f\"{student_scores['Bob']}\")\n",
    "print(student_scores)"
   ]
  },
  {
   "cell_type": "code",
   "execution_count": 10,
   "id": "cb60cc50",
   "metadata": {},
   "outputs": [],
   "source": [
    "del student_scores[\"Charlie\"]"
   ]
  },
  {
   "cell_type": "code",
   "execution_count": 12,
   "id": "6a621ba0",
   "metadata": {},
   "outputs": [
    {
     "name": "stdout",
     "output_type": "stream",
     "text": [
      "87\n"
     ]
    }
   ],
   "source": [
    "grace_score=student_scores.get(\"grace\")\n",
    "print(grace_score)"
   ]
  },
  {
   "cell_type": "code",
   "execution_count": 14,
   "id": "06aa24a7",
   "metadata": {},
   "outputs": [
    {
     "name": "stdout",
     "output_type": "stream",
     "text": [
      "dict_keys(['Alice', 'Bob', 'Diana', 'Evan', 'grace'])\n",
      "<class 'dict_keys'>\n"
     ]
    }
   ],
   "source": [
    "keys=student_scores.keys()\n",
    "print(keys)\n",
    "print(type(keys))"
   ]
  },
  {
   "cell_type": "code",
   "execution_count": 15,
   "id": "32bb4e63",
   "metadata": {},
   "outputs": [
    {
     "name": "stdout",
     "output_type": "stream",
     "text": [
      "Even squares dictionary: {2: 4, 4: 16, 6: 36, 8: 64, 10: 100}\n"
     ]
    }
   ],
   "source": [
    "even_squares = {x: x**2 for x in range(1, 11) if x % 2 == 0}\n",
    "print(\"Even squares dictionary:\", even_squares)\n"
   ]
  },
  {
   "cell_type": "code",
   "execution_count": 19,
   "id": "fda5509f",
   "metadata": {},
   "outputs": [
    {
     "name": "stdout",
     "output_type": "stream",
     "text": [
      "this is tanmaie\n",
      "\n",
      "ttttt\n"
     ]
    }
   ],
   "source": [
    "with open('simple.txt','r') as file:\n",
    "    for line in file:\n",
    "        print(line.strip())"
   ]
  },
  {
   "cell_type": "code",
   "execution_count": 21,
   "id": "2cf4fcb5",
   "metadata": {},
   "outputs": [
    {
     "name": "stdout",
     "output_type": "stream",
     "text": [
      "first\n",
      "second\n",
      "Hello,tan!\n"
     ]
    }
   ],
   "source": [
    "def my_decator(func):\n",
    "    def wapper(*args,**kwargs):\n",
    "        print(\"first\")\n",
    "        res=func(*args,**kwargs)\n",
    "        print(\"second\")\n",
    "        return res\n",
    "    return wapper\n",
    "@my_decator\n",
    "def greet(name):\n",
    "    return f\"Hello,{name}!\"\n",
    "print(greet(\"tan\"))"
   ]
  },
  {
   "cell_type": "code",
   "execution_count": 25,
   "id": "680a1d50",
   "metadata": {},
   "outputs": [
    {
     "name": "stdout",
     "output_type": "stream",
     "text": [
      "CLI_calculater.py   CLI_calculator.py   Funtions.ipynb      OOps.ipynb          OOpsMedium.ipynb    newfile.txt         pratice.ipynb       python.ipynb        simple.txt          \n"
     ]
    }
   ],
   "source": [
    "import os\n",
    "def formate(name):\n",
    "    return name + '/' if os.path.isdir(name) else name\n",
    "def pretty():\n",
    "    entr=os.listdir()\n",
    "    form=list(map(formate,entr))\n",
    "    form.sort()\n",
    "    for i in form:\n",
    "        print(i.ljust(20),end='')\n",
    "    print()\n",
    "pretty()"
   ]
  },
  {
   "cell_type": "code",
   "execution_count": 24,
   "id": "12b164ec",
   "metadata": {},
   "outputs": [
    {
     "name": "stdout",
     "output_type": "stream",
     "text": [
      "CLI_calculater.py   CLI_calculator.py   Funtions.ipynb      OOps.ipynb          OOpsMedium.ipynb    newfile.txt         pratice.ipynb       python.ipynb        simple.txt          \n"
     ]
    }
   ],
   "source": [
    "import os\n",
    "\n",
    "def format_entry(name):\n",
    "    return name + '/' if os.path.isdir(name) else name\n",
    "\n",
    "def pretty():\n",
    "    entries = os.listdir()\n",
    "    formatted = list(map(format_entry, entries))\n",
    "    formatted.sort()\n",
    "\n",
    "    for item in formatted:\n",
    "        print(item.ljust(20), end='')  # Print in columns\n",
    "    print()  # Newline after listing\n",
    "\n",
    "pretty()\n"
   ]
  }
 ],
 "metadata": {
  "kernelspec": {
   "display_name": "Python 3",
   "language": "python",
   "name": "python3"
  },
  "language_info": {
   "codemirror_mode": {
    "name": "ipython",
    "version": 3
   },
   "file_extension": ".py",
   "mimetype": "text/x-python",
   "name": "python",
   "nbconvert_exporter": "python",
   "pygments_lexer": "ipython3",
   "version": "3.13.3"
  }
 },
 "nbformat": 4,
 "nbformat_minor": 5
}
